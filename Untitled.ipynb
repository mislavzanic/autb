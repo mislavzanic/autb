{
 "cells": [
  {
   "cell_type": "markdown",
   "id": "9628af9b",
   "metadata": {},
   "source": [
    "# Zadatak 1"
   ]
  },
  {
   "cell_type": "code",
   "execution_count": 1,
   "id": "bd5ed6d7",
   "metadata": {},
   "outputs": [],
   "source": [
    "def isRemainder(a: int, p: int) -> bool:\n",
    "    for x in range(1, p):\n",
    "        if x**2 % p == a % p:\n",
    "            return True\n",
    "    return False"
   ]
  },
  {
   "cell_type": "code",
   "execution_count": 2,
   "id": "5da9307f",
   "metadata": {},
   "outputs": [
    {
     "name": "stdout",
     "output_type": "stream",
     "text": [
      "3\n"
     ]
    }
   ],
   "source": [
    "p = 2441\n",
    "for a in range(1, p):\n",
    "    if not isRemainder(a, p):\n",
    "        print(a)\n",
    "        break"
   ]
  },
  {
   "cell_type": "markdown",
   "id": "0b2b1f6e",
   "metadata": {},
   "source": [
    "# Zadatak 2"
   ]
  },
  {
   "cell_type": "code",
   "execution_count": 2,
   "id": "32427a5e",
   "metadata": {},
   "outputs": [
    {
     "name": "stdout",
     "output_type": "stream",
     "text": [
      "342\n",
      "2099\n"
     ]
    }
   ],
   "source": [
    "p, b = 2441, 2237\n",
    "\n",
    "for x in range(1, p):\n",
    "    if x**2 % p == b % p:\n",
    "        print(x)"
   ]
  },
  {
   "cell_type": "markdown",
   "id": "27b90ed9",
   "metadata": {},
   "source": [
    "# Zadatak 3 (Pari skripta)"
   ]
  },
  {
   "cell_type": "code",
   "execution_count": 3,
   "id": "13fe55f7",
   "metadata": {},
   "outputs": [],
   "source": [
    "from math import sqrt"
   ]
  },
  {
   "cell_type": "code",
   "execution_count": 4,
   "id": "051b729a",
   "metadata": {},
   "outputs": [],
   "source": [
    "a, b = sqrt(2), sqrt(73)"
   ]
  },
  {
   "cell_type": "code",
   "execution_count": 5,
   "id": "e730d3d2",
   "metadata": {},
   "outputs": [
    {
     "name": "stdout",
     "output_type": "stream",
     "text": [
      "True\n"
     ]
    }
   ],
   "source": [
    "q, p1, p2 = 1189751, 1682562, 10165237\n",
    "print(min(abs(a - p1 / q), abs(b - p2 / q)) < q ** (-1.5))"
   ]
  },
  {
   "cell_type": "code",
   "execution_count": null,
   "id": "d6bd4bec",
   "metadata": {},
   "outputs": [],
   "source": []
  }
 ],
 "metadata": {
  "kernelspec": {
   "display_name": "Python 3",
   "language": "python",
   "name": "python3"
  },
  "language_info": {
   "codemirror_mode": {
    "name": "ipython",
    "version": 3
   },
   "file_extension": ".py",
   "mimetype": "text/x-python",
   "name": "python",
   "nbconvert_exporter": "python",
   "pygments_lexer": "ipython3",
   "version": "3.9.2"
  }
 },
 "nbformat": 4,
 "nbformat_minor": 5
}
